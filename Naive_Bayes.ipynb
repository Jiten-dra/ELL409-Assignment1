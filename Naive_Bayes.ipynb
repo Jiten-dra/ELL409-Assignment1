{
 "cells": [
  {
   "cell_type": "code",
   "execution_count": 1,
   "metadata": {
    "collapsed": true
   },
   "outputs": [],
   "source": [
    "import numpy as np"
   ]
  },
  {
   "cell_type": "code",
   "execution_count": 5,
   "metadata": {},
   "outputs": [],
   "source": [
    "from utils import mnist_reader"
   ]
  },
  {
   "cell_type": "code",
   "execution_count": 6,
   "metadata": {
    "collapsed": true
   },
   "outputs": [],
   "source": [
    "X_train, y_train = mnist_reader.load_mnist('data/fashion', kind='train')\n",
    "X_test, y_test = mnist_reader.load_mnist('data/fashion', kind='t10k')"
   ]
  },
  {
   "cell_type": "code",
   "execution_count": 32,
   "metadata": {},
   "outputs": [],
   "source": [
    "import matplotlib.pyplot as plt"
   ]
  },
  {
   "cell_type": "code",
   "execution_count": 205,
   "metadata": {},
   "outputs": [
    {
     "data": {
      "text/plain": [
       "array([[  0.00000000e+00,   0.00000000e+00,   0.00000000e+00, ...,\n",
       "          0.00000000e+00,   0.00000000e+00,   0.00000000e+00],\n",
       "       [  0.00000000e+00,   8.33083333e-04,  -0.00000000e+00, ...,\n",
       "          0.00000000e+00,   0.00000000e+00,   0.00000000e+00],\n",
       "       [  0.00000000e+00,  -0.00000000e+00,   1.66622222e-03, ...,\n",
       "         -0.00000000e+00,   0.00000000e+00,  -0.00000000e+00],\n",
       "       ..., \n",
       "       [  0.00000000e+00,   0.00000000e+00,  -0.00000000e+00, ...,\n",
       "          1.06370364e+01,   0.00000000e+00,   0.00000000e+00],\n",
       "       [  0.00000000e+00,   0.00000000e+00,   0.00000000e+00, ...,\n",
       "          0.00000000e+00,   5.35309322e+00,   0.00000000e+00],\n",
       "       [  0.00000000e+00,   0.00000000e+00,  -0.00000000e+00, ...,\n",
       "          0.00000000e+00,   0.00000000e+00,   2.66622222e-03]])"
      ]
     },
     "execution_count": 205,
     "metadata": {},
     "output_type": "execute_result"
    }
   ],
   "source": [
    "u = np.ndarray(shape=(10,784))\n",
    "sig = np.ndarray(shape=(10,784,784))\n",
    "sig_diag = np.ndarray(shape=(10,784,784))\n",
    "import numpy.matlib \n",
    "for i in range(10):\n",
    "    u[i,:] = np.sum(X_train[y_train==i,:],axis=0)/6000.0\n",
    "for i in range(10):\n",
    "    #X = np.ndarray(shape=(6000,784))\n",
    "    X = np.subtract(X_train[y_train==i,:],u[i,:])\n",
    "    sig[i,:,:] = np.matmul(X.transpose(),X)/6000\n",
    "    I = np.matlib.eye(784,784)\n",
    "    sig_diag[i,:,:] = np.multiply(sig[i,:,:],I)\n"
   ]
  },
  {
   "cell_type": "code",
   "execution_count": 219,
   "metadata": {},
   "outputs": [
    {
     "data": {
      "text/plain": [
       "array([[ nan],\n",
       "       [ nan],\n",
       "       [ nan],\n",
       "       [ nan],\n",
       "       [ nan],\n",
       "       [ nan],\n",
       "       [ nan],\n",
       "       [ nan],\n",
       "       [ nan],\n",
       "       [ nan]])"
      ]
     },
     "execution_count": 219,
     "metadata": {},
     "output_type": "execute_result"
    }
   ],
   "source": [
    "sig_det = np.ndarray(shape=(10,1))\n",
    "for i in range(10):\n",
    "    mul = np.ndarray(shape=(1,1))\n",
    "    for j in range(784):\n",
    "        mul = mul*sig_diag[i,j,j]\n",
    "    sig_det[i] = mul\n",
    "sig_det\n"
   ]
  },
  {
   "cell_type": "code",
   "execution_count": null,
   "metadata": {},
   "outputs": [],
   "source": []
  },
  {
   "cell_type": "code",
   "execution_count": null,
   "metadata": {},
   "outputs": [],
   "source": []
  },
  {
   "cell_type": "code",
   "execution_count": null,
   "metadata": {
    "collapsed": true
   },
   "outputs": [],
   "source": []
  }
 ],
 "metadata": {
  "kernelspec": {
   "display_name": "Python 3",
   "language": "python",
   "name": "python3"
  },
  "language_info": {
   "codemirror_mode": {
    "name": "ipython",
    "version": 3
   },
   "file_extension": ".py",
   "mimetype": "text/x-python",
   "name": "python",
   "nbconvert_exporter": "python",
   "pygments_lexer": "ipython3",
   "version": "3.6.3"
  }
 },
 "nbformat": 4,
 "nbformat_minor": 2
}
